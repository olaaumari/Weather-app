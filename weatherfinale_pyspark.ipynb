{
 "cells": [
  {
   "cell_type": "markdown",
   "metadata": {},
   "source": [
    "---\n",
    "---\n",
    "\n",
    "<img src=\"logoP1.png\" width=160px align=\"right\"></span>\n",
    "##### <img src=\"logoMoSEF.jpeg\" width=100px align=\"right\"></span>\n",
    "\n",
    "# <span style=\"background-color: \"> **_PROJET PYTHON AVANCE_** </span>\n",
    "\n",
    " <div style=\"text-align:right;\">Projet réalisé par : Anisoara Ababii, Oussama Laaumari, Camil Zahi</div>\n",
    " <div style=\"text-align:right;\">Supervisé par : Hager Oueslati </div>\n",
    "\n",
    "<div style=\"text-align:right;\"> Janvier 2023 </div>\n",
    "\n",
    "---\n",
    "---"
   ]
  },
  {
   "cell_type": "code",
   "execution_count": 7,
   "metadata": {},
   "outputs": [],
   "source": [
    "from bs4 import BeautifulSoup as BS\n",
    "from selenium import webdriver\n",
    "from functools import reduce\n",
    "import pandas as pd\n",
    "import time\n",
    "import re\n",
    "import xgboost as xgb\n",
    "from sklearn.metrics import mean_absolute_error\n",
    "\n",
    "import matplotlib.pyplot as plt\n",
    "import numpy as np\n",
    "from matplotlib.pyplot import figure\n",
    "\n",
    "import requests\n",
    "from datetime import datetime\n",
    "\n",
    "import asyncio\n",
    "import multiprocessing\n",
    "from concurrent.futures import ProcessPoolExecutor\n",
    "from time import sleep, time\n",
    "\n",
    "import httpx\n",
    "from concurrent.futures.thread import ThreadPoolExecutor\n",
    "\n",
    "from pyspark.sql.functions import percent_rank\n",
    "from pyspark.sql import Window\n",
    "from pyspark.sql.functions import col\n",
    "\n",
    "from selenium.webdriver.chrome.options import Options\n",
    "\n",
    "chrome_options = Options()\n",
    "chrome_options.add_argument(\"--headless\")"
   ]
  },
  {
   "cell_type": "code",
   "execution_count": 1,
   "metadata": {},
   "outputs": [],
   "source": [
    "# Pyspark\n",
    "import findspark\n",
    "findspark.init()\n",
    "\n",
    "import pyspark\n",
    "from pyspark.sql import SparkSession\n",
    "spark = SparkSession.builder.master(\"local[1]\").appName(\"Weather.com\").getOrCreate()"
   ]
  },
  {
   "cell_type": "code",
   "execution_count": 2,
   "metadata": {},
   "outputs": [
    {
     "name": "stdout",
     "output_type": "stream",
     "text": [
      "['2022-01', '2022-02', '2022-03', '2022-04', '2022-05', '2022-06', '2022-07', '2022-08', '2022-09', '2022-10', '2022-11', '2022-12', '2023-01']\n"
     ]
    }
   ],
   "source": [
    "from datetime import datetime, timedelta\n",
    "\n",
    "def generate_dates(dates):\n",
    "    \"\"\"\n",
    "    Cette fonction prend en entrée une liste de dates sous la forme de deux chaînes de caractères 'YYYY-MM' (année-mois)\n",
    "    et génère une liste de tous les mois compris entre ces deux dates.\n",
    "    \"\"\"\n",
    "    # Conversion des chaînes de caractères en objets datetime pour la date de début\n",
    "    start_date = datetime.strptime(dates[0], '%Y-%m')\n",
    "\n",
    "    # Conversion des chaînes de caractères en objets datetime pour la date de fin\n",
    "    end_date = datetime.strptime(dates[1], '%Y-%m')\n",
    "\n",
    "    # Initialisation de la variable pour stocker la date en cours\n",
    "    current_month = start_date\n",
    "\n",
    "    # Initialisation de la liste pour stocker les dates générées\n",
    "    date_list = []\n",
    "\n",
    "    # Boucle pour générer les dates jusqu'à ce que la date en cours dépasse la date de fin\n",
    "    while current_month < end_date:\n",
    "    \n",
    "        # Ajout de la date en cours au format 'YYYY-MM' dans la liste de dates\n",
    "        date_list.append(current_month.strftime('%Y-%m'))\n",
    "\n",
    "        # Calcul de la date du mois suivant en ajoutant 31 jours à la date en cours\n",
    "        next_month = current_month + timedelta(days=31)\n",
    "\n",
    "        # Vérification si le mois suivant est le même que celui de la date en cours\n",
    "        if next_month.month == current_month.month:\n",
    "\n",
    "            # Si oui, on enlève les jours excédentaires pour obtenir le dernier jour du mois\n",
    "            next_month = next_month - timedelta(days=next_month.day)\n",
    "       \n",
    "        # Mise à jour de la date en cours pour itérer sur le mois suivant\n",
    "        current_month = next_month\n",
    "\n",
    "    # Ajout de la date de fin au format 'YYYY-MM' dans la liste de dates\n",
    "    date_list.append(end_date.strftime('%Y-%m'))\n",
    "\n",
    "    # Renvoi de la liste de dates générée\n",
    "    return date_list\n",
    "\n",
    "# Exemple d'utilisation de la fonction avec des dates de début et de fin\n",
    "dates = ['2022-1','2023-1']\n",
    "print(generate_dates(dates))"
   ]
  },
  {
   "cell_type": "code",
   "execution_count": 3,
   "metadata": {},
   "outputs": [
    {
     "name": "stdout",
     "output_type": "stream",
     "text": [
      "This machine has 8 CPU cores\n"
     ]
    }
   ],
   "source": [
    "import multiprocessing\n",
    "print(f\"This machine has {multiprocessing.cpu_count()} CPU cores\")"
   ]
  },
  {
   "cell_type": "markdown",
   "metadata": {},
   "source": [
    "# Code à lancer pour scrapper les urls et le code source de chaque page"
   ]
  },
  {
   "cell_type": "code",
   "execution_count": 28,
   "metadata": {},
   "outputs": [
    {
     "name": "stderr",
     "output_type": "stream",
     "text": [
      "C:\\Users\\Oussama\\AppData\\Local\\Temp\\ipykernel_23228\\1348923753.py:32: DeprecationWarning: executable_path has been deprecated, please pass in a Service object\n",
      "  driver = webdriver.Chrome(\"./chromedriver\", options=chrome_options)\n"
     ]
    },
    {
     "ename": "RuntimeError",
     "evalue": "This event loop is already running",
     "output_type": "error",
     "traceback": [
      "\u001b[1;31m---------------------------------------------------------------------------\u001b[0m",
      "\u001b[1;31mRuntimeError\u001b[0m                              Traceback (most recent call last)",
      "\u001b[1;32mc:\\Users\\Oussama\\Desktop\\pav\\weatherfinale_pyspark.ipynb Cell 7\u001b[0m in \u001b[0;36m<cell line: 54>\u001b[1;34m()\u001b[0m\n\u001b[0;32m     <a href='vscode-notebook-cell:/c%3A/Users/Oussama/Desktop/pav/weatherfinale_pyspark.ipynb#X13sZmlsZQ%3D%3D?line=50'>51</a>\u001b[0m     scrape(url, loop\u001b[39m=\u001b[39mloop)\n\u001b[0;32m     <a href='vscode-notebook-cell:/c%3A/Users/Oussama/Desktop/pav/weatherfinale_pyspark.ipynb#X13sZmlsZQ%3D%3D?line=52'>53</a>\u001b[0m \u001b[39m# Exécution du loop asynchrone jusqu'à ce que toutes les tâches soient terminées (il y a un message d'erreur \"This event loop is already running\" mais le code fonctionne bien)\u001b[39;00m\n\u001b[1;32m---> <a href='vscode-notebook-cell:/c%3A/Users/Oussama/Desktop/pav/weatherfinale_pyspark.ipynb#X13sZmlsZQ%3D%3D?line=53'>54</a>\u001b[0m loop\u001b[39m.\u001b[39;49mrun_until_complete(asyncio\u001b[39m.\u001b[39;49mgather(\u001b[39m*\u001b[39;49masyncio\u001b[39m.\u001b[39;49mall_tasks(loop)))\n",
      "File \u001b[1;32mc:\\Users\\Oussama\\AppData\\Local\\Programs\\Python\\Python310\\lib\\asyncio\\base_events.py:622\u001b[0m, in \u001b[0;36mBaseEventLoop.run_until_complete\u001b[1;34m(self, future)\u001b[0m\n\u001b[0;32m    611\u001b[0m \u001b[39m\"\"\"Run until the Future is done.\u001b[39;00m\n\u001b[0;32m    612\u001b[0m \n\u001b[0;32m    613\u001b[0m \u001b[39mIf the argument is a coroutine, it is wrapped in a Task.\u001b[39;00m\n\u001b[1;32m   (...)\u001b[0m\n\u001b[0;32m    619\u001b[0m \u001b[39mReturn the Future's result, or raise its exception.\u001b[39;00m\n\u001b[0;32m    620\u001b[0m \u001b[39m\"\"\"\u001b[39;00m\n\u001b[0;32m    621\u001b[0m \u001b[39mself\u001b[39m\u001b[39m.\u001b[39m_check_closed()\n\u001b[1;32m--> 622\u001b[0m \u001b[39mself\u001b[39;49m\u001b[39m.\u001b[39;49m_check_running()\n\u001b[0;32m    624\u001b[0m new_task \u001b[39m=\u001b[39m \u001b[39mnot\u001b[39;00m futures\u001b[39m.\u001b[39misfuture(future)\n\u001b[0;32m    625\u001b[0m future \u001b[39m=\u001b[39m tasks\u001b[39m.\u001b[39mensure_future(future, loop\u001b[39m=\u001b[39m\u001b[39mself\u001b[39m)\n",
      "File \u001b[1;32mc:\\Users\\Oussama\\AppData\\Local\\Programs\\Python\\Python310\\lib\\asyncio\\base_events.py:582\u001b[0m, in \u001b[0;36mBaseEventLoop._check_running\u001b[1;34m(self)\u001b[0m\n\u001b[0;32m    580\u001b[0m \u001b[39mdef\u001b[39;00m \u001b[39m_check_running\u001b[39m(\u001b[39mself\u001b[39m):\n\u001b[0;32m    581\u001b[0m     \u001b[39mif\u001b[39;00m \u001b[39mself\u001b[39m\u001b[39m.\u001b[39mis_running():\n\u001b[1;32m--> 582\u001b[0m         \u001b[39mraise\u001b[39;00m \u001b[39mRuntimeError\u001b[39;00m(\u001b[39m'\u001b[39m\u001b[39mThis event loop is already running\u001b[39m\u001b[39m'\u001b[39m)\n\u001b[0;32m    583\u001b[0m     \u001b[39mif\u001b[39;00m events\u001b[39m.\u001b[39m_get_running_loop() \u001b[39mis\u001b[39;00m \u001b[39mnot\u001b[39;00m \u001b[39mNone\u001b[39;00m:\n\u001b[0;32m    584\u001b[0m         \u001b[39mraise\u001b[39;00m \u001b[39mRuntimeError\u001b[39;00m(\n\u001b[0;32m    585\u001b[0m             \u001b[39m'\u001b[39m\u001b[39mCannot run the event loop while another loop is running\u001b[39m\u001b[39m'\u001b[39m)\n",
      "\u001b[1;31mRuntimeError\u001b[0m: This event loop is already running"
     ]
    }
   ],
   "source": [
    "page_lyon = 'https://www.wunderground.com/history/monthly/fr/lyon/LFLL/date/'\n",
    "page_paris = 'https://www.wunderground.com/history/monthly/fr/paris/LFPO/date/'\n",
    "page_marseille = 'https://www.wunderground.com/history/monthly/fr/marseille/LFML/date/'\n",
    "page_new_york = \"https://www.wunderground.com/history/monthly/us/ny/new-york-city/KLGA/date/\"\n",
    "page_milan = \"https://www.wunderground.com/history/monthly/it/milan/LIML/date/\"\n",
    "page_madrid = \"https://www.wunderground.com/history/monthly/es/madrid/LEMD/date/\"\n",
    "\n",
    "\n",
    "dates = ['2021-1','2023-1']\n",
    "urls = []\n",
    "\n",
    "# Boucle pour générer les URLs en utilisant la fonction generate_dates et en les concaténant à la variable page\n",
    "for d in generate_dates(dates):\n",
    "    urls.append(page_lyon+d)\n",
    "\n",
    "# Création d'un pool de 13 threads pour l'exécution en parallèle et accélérer le processus\n",
    "executor = ThreadPoolExecutor(13)\n",
    "\n",
    "# Définition de la fonction scrape qui prend en entrée une URL et un loop asynchrone\n",
    "def scrape(url, *, loop):\n",
    "\n",
    "    # Exécution de la fonction scraper_speed dans le thread pool en utilisant le loop asynchrone\n",
    "    loop.run_in_executor(executor, scraper_speed, url)\n",
    "\n",
    "# Initialisation de la liste pour stocker les résultats\n",
    "rr = []\n",
    "\n",
    "# Définition de la fonction scraper_speed qui prend en entrée une URL\n",
    "def scraper_speed(url):\n",
    "    \n",
    "    # Utilisation du Chromedriver avec les options spécifiées dans le script précédent\n",
    "    driver = webdriver.Chrome(\"./chromedriver\", options=chrome_options)\n",
    "    \n",
    "    # Accès à la page de l'URL    \n",
    "    driver.get(url)\n",
    "\n",
    "    # Récupération du code source de la page\n",
    "    r = driver.page_source\n",
    "\n",
    "    # Ajout du code source de la page dans la liste de résultats\n",
    "    rr.append(r)\n",
    "\n",
    "    # Fermeture du navigateur\n",
    "    driver.quit()\n",
    "\n",
    "# Récupération du loop asynchrone courant\n",
    "loop = asyncio.get_event_loop()\n",
    "\n",
    "# Boucle pour itérer sur les URLs et les passer à la fonction scrape\n",
    "for url in urls:\n",
    "    scrape(url, loop=loop)\n",
    "\n",
    "# Exécution du loop asynchrone jusqu'à ce que toutes les tâches soient terminées (il y a un message d'erreur \"This event loop is already running\" mais le code fonctionne bien)\n",
    "loop.run_until_complete(asyncio.gather(*asyncio.all_tasks(loop)))\n",
    "\n"
   ]
  },
  {
   "cell_type": "code",
   "execution_count": 30,
   "metadata": {},
   "outputs": [
    {
     "data": {
      "text/plain": [
       "25"
      ]
     },
     "execution_count": 30,
     "metadata": {},
     "output_type": "execute_result"
    }
   ],
   "source": [
    "# Affichage de la longueur de la liste rr (37 correspond à 37 mois)\n",
    "# Pendant le processus il est possible de regarder la liste se remplir et donc sa taille augmenter\n",
    "len(rr)"
   ]
  },
  {
   "attachments": {},
   "cell_type": "markdown",
   "metadata": {},
   "source": [
    "---\n",
    "\n",
    "**<div style=\"text-align:center;\">!!! Attention !!! </div>**\n",
    "\n",
    "Il faut attendre que le code précédent affiche le nombre de mois souhaité pour la longueur de la liste rr. Sinon attendre et relancer le code précédent jusqu'à ce qu'on arrive à la longueur souhaité. Le nombre devrait monter au fur et à mesure jusqu'à 37 par exemple pour 37 mois.\n",
    "\n",
    "---"
   ]
  },
  {
   "cell_type": "code",
   "execution_count": 31,
   "metadata": {},
   "outputs": [],
   "source": [
    "# Initialisation de la liste pour stocker les dates extraites\n",
    "liste_de_date = []\n",
    "\n",
    "# Boucle pour itérer sur les résultats de la page\n",
    "for i in range(len(rr)):\n",
    "    # Parsing de la source de la page en utilisant BeautifulSoup \n",
    "    soup = BS(rr[i], \"html.parser\")\n",
    "\n",
    "    # Compilation d'un motif d'expression régulière pour sélectionner les liens correspondants\n",
    "    pattern = re.compile(page_lyon+r'\\d{4}-\\d{2}')\n",
    "\n",
    "    # Recherche des liens correspondant au motif dans la source de la page\n",
    "    links = soup.find_all('link', href=pattern)\n",
    "    \n",
    "    # Ajout des liens trouvés dans la liste de dates\n",
    "    liste_de_date.append(links)\n",
    "    "
   ]
  },
  {
   "cell_type": "code",
   "execution_count": 32,
   "metadata": {},
   "outputs": [
    {
     "data": {
      "text/plain": [
       "[<link href=\"https://www.wunderground.com/history/monthly/fr/lyon/LFLL/date/2021-04\" rel=\"canonical\"/>]"
      ]
     },
     "execution_count": 32,
     "metadata": {},
     "output_type": "execute_result"
    }
   ],
   "source": [
    "# Récupération du premier lien de la liste de dates pour verifier que cela a fonctionné\n",
    "liste_de_date[0]"
   ]
  },
  {
   "attachments": {},
   "cell_type": "markdown",
   "metadata": {},
   "source": [
    "**On transforme les liens en string pour mieux les manipuler ensuite**"
   ]
  },
  {
   "cell_type": "code",
   "execution_count": 33,
   "metadata": {},
   "outputs": [],
   "source": [
    "# Initialisation de la liste pour stocker les dates extraites sous forme de chaînes de caractères\n",
    "dates_str = []\n",
    "\n",
    "# Boucle pour itérer sur la liste de liens contenant des dates\n",
    "for links in liste_de_date:\n",
    "    \n",
    "    # Boucle pour itérer sur chaque lien contenant une date\n",
    "    for link in links:\n",
    "        \n",
    "        # Récupération de la date dans le lien en utilisant la méthode .get() de l'objet dictionnaire \"attrs\" de BeautifulSoup\n",
    "        # et en utilisant .split() pour séparer les différentes parties de l'URL pour récupérer la date\n",
    "        date = link.attrs.get('href').split('/')[-1]\n",
    "        \n",
    "        # Ajout de la date dans la liste de dates\n",
    "        dates_str.append(date)"
   ]
  },
  {
   "cell_type": "code",
   "execution_count": 34,
   "metadata": {},
   "outputs": [
    {
     "data": {
      "text/plain": [
       "25"
      ]
     },
     "execution_count": 34,
     "metadata": {},
     "output_type": "execute_result"
    }
   ],
   "source": [
    "len(dates_str)"
   ]
  },
  {
   "cell_type": "code",
   "execution_count": 12,
   "metadata": {},
   "outputs": [],
   "source": [
    "from pyspark.sql.types import *\n",
    "from pyspark.sql.functions import to_date\n"
   ]
  },
  {
   "attachments": {},
   "cell_type": "markdown",
   "metadata": {},
   "source": [
    "# Fonction pour scrapper les pages et créer le dataframe"
   ]
  },
  {
   "cell_type": "code",
   "execution_count": 35,
   "metadata": {},
   "outputs": [],
   "source": [
    "def scraper(liste_de_lien, jours):\n",
    "    \"\"\"\n",
    "    Cette fonction prend en entrée une liste de lien à scrapper et le paramètre \n",
    "    jours pour que la fonction puisse fonctionner si on souhaite récupérer les données jusqu'à \n",
    "    aujourd'hui. Le paramètre jours doit être 29 si on est le 29.\n",
    "\n",
    "    \"\"\"\n",
    "    \n",
    "    output = pd.DataFrame()\n",
    "\n",
    "\n",
    "    for index, lien in enumerate(liste_de_lien):\n",
    "        soup = BS(lien, \"html.parser\")\n",
    "        container = soup.find('lib-city-history-observation')\n",
    "        check = container.find('tbody')\n",
    "        data = []\n",
    "        \n",
    "        for c in check.find_all('tr', class_='ng-star-inserted'):\n",
    "            for i in c.find_all('td', class_='ng-star-inserted'):\n",
    "                trial = i.text\n",
    "                trial = trial.strip('  ')\n",
    "                data.append(trial)\n",
    "                \n",
    "\n",
    "        if round(len(data) / 17 - 1) == jours: \n",
    "            ecart0 = (jours+1)*3\n",
    "            Temperature = pd.DataFrame([data[jours+1:(jours+1)+ecart0][x:x + 3] for x in range(0, len(data[jours+1:(jours+1)+ecart0]), 3)][1:],\n",
    "                                       columns=['Temp_max', 'Temp_avg', 'Temp_min'])\n",
    "            \n",
    "            Dew_Point = pd.DataFrame([data[(jours+1)+ecart0:(jours+1)+ecart0+ecart0][x:x + 3] for x in range(0, len(data[(jours+1)+ecart0:(jours+1)+ecart0+ecart0]), 3)][1:],\n",
    "                                     columns=['Dew_max', 'Dew_avg', 'Dew_min'])\n",
    "            Humidity = pd.DataFrame([data[(jours+1)+ecart0+ecart0:(jours+1)+ecart0+ecart0+ecart0][x:x + 3] for x in range(0, len(data[(jours+1)+ecart0+ecart0:(jours+1)+ecart0+ecart0+ecart0]), 3)][1:],\n",
    "                                    columns=['Hum_max', 'Hum_avg', 'Hum_min'])\n",
    "            Wind = pd.DataFrame([data[(jours+1)+ecart0+ecart0:(jours+1)+ecart0+ecart0+ecart0+ecart0][x:x + 3] for x in range(0, len(data[(jours+1)+ecart0+ecart0+ecart0:(jours+1)+ecart0+ecart0+ecart0+ecart0]), 3)][1:],\n",
    "                                columns=['Wind_max', 'Wind_avg', 'Wind_min'])\n",
    "            Pressure = pd.DataFrame([data[(jours+1)+ecart0+ecart0+ecart0+ecart0:(jours+1)+ecart0+ecart0+ecart0+ecart0+ecart0][x:x + 3] for x in range(0, len(data[(jours+1)+ecart0+ecart0+ecart0+ecart0:(jours+1)+ecart0+ecart0+ecart0+ecart0+ecart0]), 3)][1:],\n",
    "                                    columns=['Pres_max', 'Pres_avg', 'Pres_min'])\n",
    "            Date = pd.DataFrame(data[:jours+1][1:], columns=data[:1])\n",
    "            Precipitation = pd.DataFrame(data[(jours+1)+ecart0+ecart0+ecart0+ecart0+ecart0:][1:], columns=['Precipitation'])\n",
    "                      \n",
    "\n",
    "        if round(len(data) / 17 - 1) == 31:\n",
    "            Temperature = pd.DataFrame([data[32:128][x:x + 3] for x in range(0, len(data[32:128]), 3)][1:],\n",
    "                                       columns=['Temp_max', 'Temp_avg', 'Temp_min'])\n",
    "            Dew_Point = pd.DataFrame([data[128:224][x:x + 3] for x in range(0, len(data[128:224]), 3)][1:],\n",
    "                                     columns=['Dew_max', 'Dew_avg', 'Dew_min'])\n",
    "            Humidity = pd.DataFrame([data[224:320][x:x + 3] for x in range(0, len(data[224:320]), 3)][1:],\n",
    "                                    columns=['Hum_max', 'Hum_avg', 'Hum_min'])\n",
    "            Wind = pd.DataFrame([data[320:416][x:x + 3] for x in range(0, len(data[320:416]), 3)][1:],\n",
    "                                columns=['Wind_max', 'Wind_avg', 'Wind_min'])\n",
    "            Pressure = pd.DataFrame([data[416:512][x:x + 3] for x in range(0, len(data[416:512]), 3)][1:],\n",
    "                                    columns=['Pres_max', 'Pres_avg', 'Pres_min'])\n",
    "            Date = pd.DataFrame(data[:32][1:], columns=data[:1])\n",
    "            Precipitation = pd.DataFrame(data[512:][1:], columns=['Precipitation'])\n",
    "          \n",
    "        elif round(len(data) / 17 - 1) == 28:\n",
    "            Temperature = pd.DataFrame([data[29:116][x:x + 3] for x in range(0, len(data[29:116]), 3)][1:],\n",
    "                                       columns=['Temp_max', 'Temp_avg', 'Temp_min'])\n",
    "            Dew_Point = pd.DataFrame([data[116:203][x:x + 3] for x in range(0, len(data[116:203]), 3)][1:],\n",
    "                                     columns=['Dew_max', 'Dew_avg', 'Dew_min'])\n",
    "            Humidity = pd.DataFrame([data[203:290][x:x + 3] for x in range(0, len(data[203:290]), 3)][1:],\n",
    "                                    columns=['Hum_max', 'Hum_avg', 'Hum_min'])\n",
    "            Wind = pd.DataFrame([data[290:377][x:x + 3] for x in range(0, len(data[290:377]), 3)][1:],\n",
    "                                columns=['Wind_max', 'Wind_avg', 'Wind_min'])\n",
    "            Pressure = pd.DataFrame([data[377:464][x:x + 3] for x in range(0, len(data[377:463]), 3)][1:],\n",
    "                                    columns=['Pres_max', 'Pres_avg', 'Pres_min'])\n",
    "            Date = pd.DataFrame(data[:29][1:], columns=data[:1])\n",
    "            Precipitation = pd.DataFrame(data[464:][1:], columns=['Precipitation'])\n",
    "        elif round(len(data) / 17 - 1) == 29:\n",
    "            Temperature = pd.DataFrame([data[30:120][x:x + 3] for x in range(0, len(data[30:120]), 3)][1:],\n",
    "                                       columns=['Temp_max', 'Temp_avg', 'Temp_min'])\n",
    "            Dew_Point = pd.DataFrame([data[120:210][x:x + 3] for x in range(0, len(data[120:210]), 3)][1:],\n",
    "                                     columns=['Dew_max', 'Dew_avg', 'Dew_min'])\n",
    "            Humidity = pd.DataFrame([data[210:300][x:x + 3] for x in range(0, len(data[210:300]), 3)][1:],\n",
    "                                    columns=['Hum_max', 'Hum_avg', 'Hum_min'])\n",
    "            Wind = pd.DataFrame([data[300:390][x:x + 3] for x in range(0, len(data[300:390]), 3)][1:],\n",
    "                                columns=['Wind_max', 'Wind_avg', 'Wind_min'])\n",
    "            Pressure = pd.DataFrame([data[390:480][x:x + 3] for x in range(0, len(data[390:480]), 3)][1:],\n",
    "                                    columns=['Pres_max', 'Pres_avg', 'Pres_min'])\n",
    "            Date = pd.DataFrame(data[:30][1:], columns=data[:1])\n",
    "            Precipitation = pd.DataFrame(data[480:][1:], columns=['Precipitation'])\n",
    "\n",
    "        elif round(len(data) / 17 - 1) == 30:\n",
    "            Temperature = pd.DataFrame([data[31:124][x:x + 3] for x in range(0, len(data[31:124]), 3)][1:],\n",
    "                                       columns=['Temp_max', 'Temp_avg', 'Temp_min'])\n",
    "            Dew_Point = pd.DataFrame([data[124:217][x:x + 3] for x in range(0, len(data[124:217]), 3)][1:],\n",
    "                                     columns=['Dew_max', 'Dew_avg', 'Dew_min'])\n",
    "            Humidity = pd.DataFrame([data[217:310][x:x + 3] for x in range(0, len(data[217:310]), 3)][1:],\n",
    "                                    columns=['Hum_max', 'Hum_avg', 'Hum_min'])\n",
    "            Wind = pd.DataFrame([data[310:403][x:x + 3] for x in range(0, len(data[310:403]), 3)][1:],\n",
    "                                columns=['Wind_max', 'Wind_avg', 'Wind_min'])\n",
    "            Pressure = pd.DataFrame([data[403:496][x:x + 3] for x in range(0, len(data[403:496]), 3)][1:],\n",
    "                                    columns=['Pres_max', 'Pres_avg', 'Pres_min'])\n",
    "            Date = pd.DataFrame(data[:31][1:], columns=data[:1])\n",
    "            Precipitation = pd.DataFrame(data[496:][1:], columns=['Precipitation'])        \n",
    "        else:\n",
    "\n",
    "            print('Data not in normal length')\n",
    "\n",
    "        dfs = [Date, Temperature, Dew_Point, Humidity, Wind, Pressure, Precipitation]\n",
    "\n",
    "        df_final = reduce(lambda left, right: pd.merge(left, right, left_index=True, right_index=True), dfs)\n",
    "\n",
    "        df_final['Date'] = str(dates_str[index]) + \"-\" + df_final.iloc[:, :1].astype(str)\n",
    "\n",
    "        output = output.append(df_final)\n",
    "\n",
    "    print('Scraper done!')\n",
    "\n",
    "    output = output[['Temp_avg', 'Temp_min', 'Dew_max', 'Dew_avg', 'Dew_min', 'Hum_max',\n",
    "                     'Hum_avg', 'Hum_min', 'Wind_max', 'Wind_avg', 'Wind_min', 'Pres_max',\n",
    "                     'Pres_avg', 'Pres_min', 'Precipitation', 'Date']]\n",
    "\n",
    "    return output"
   ]
  },
  {
   "cell_type": "code",
   "execution_count": null,
   "metadata": {},
   "outputs": [],
   "source": [
    "# Appel de la fonction scraper pour récupérer les données à partir de la ressource rr et scraper 26 pages\n",
    "df_scrap = scraper(rr, 29)"
   ]
  },
  {
   "cell_type": "code",
   "execution_count": 37,
   "metadata": {},
   "outputs": [
    {
     "data": {
      "text/html": [
       "<div>\n",
       "<style scoped>\n",
       "    .dataframe tbody tr th:only-of-type {\n",
       "        vertical-align: middle;\n",
       "    }\n",
       "\n",
       "    .dataframe tbody tr th {\n",
       "        vertical-align: top;\n",
       "    }\n",
       "\n",
       "    .dataframe thead th {\n",
       "        text-align: right;\n",
       "    }\n",
       "</style>\n",
       "<table border=\"1\" class=\"dataframe\">\n",
       "  <thead>\n",
       "    <tr style=\"text-align: right;\">\n",
       "      <th></th>\n",
       "      <th>Temp_avg</th>\n",
       "      <th>Temp_min</th>\n",
       "      <th>Dew_max</th>\n",
       "      <th>Dew_avg</th>\n",
       "      <th>Dew_min</th>\n",
       "      <th>Hum_max</th>\n",
       "      <th>Hum_avg</th>\n",
       "      <th>Hum_min</th>\n",
       "      <th>Wind_max</th>\n",
       "      <th>Wind_avg</th>\n",
       "      <th>Wind_min</th>\n",
       "      <th>Pres_max</th>\n",
       "      <th>Pres_avg</th>\n",
       "      <th>Pres_min</th>\n",
       "      <th>Precipitation</th>\n",
       "      <th>Date</th>\n",
       "    </tr>\n",
       "  </thead>\n",
       "  <tbody>\n",
       "    <tr>\n",
       "      <th>0</th>\n",
       "      <td>64.5</td>\n",
       "      <td>52</td>\n",
       "      <td>41</td>\n",
       "      <td>35.7</td>\n",
       "      <td>28</td>\n",
       "      <td>54</td>\n",
       "      <td>35.6</td>\n",
       "      <td>22</td>\n",
       "      <td>13</td>\n",
       "      <td>7.4</td>\n",
       "      <td>2</td>\n",
       "      <td>29.3</td>\n",
       "      <td>29.2</td>\n",
       "      <td>29.2</td>\n",
       "      <td>0.00</td>\n",
       "      <td>2021-04-1</td>\n",
       "    </tr>\n",
       "    <tr>\n",
       "      <th>1</th>\n",
       "      <td>59.6</td>\n",
       "      <td>46</td>\n",
       "      <td>48</td>\n",
       "      <td>39.4</td>\n",
       "      <td>28</td>\n",
       "      <td>66</td>\n",
       "      <td>48.1</td>\n",
       "      <td>31</td>\n",
       "      <td>21</td>\n",
       "      <td>8.7</td>\n",
       "      <td>1</td>\n",
       "      <td>29.2</td>\n",
       "      <td>29.2</td>\n",
       "      <td>29.1</td>\n",
       "      <td>0.00</td>\n",
       "      <td>2021-04-2</td>\n",
       "    </tr>\n",
       "    <tr>\n",
       "      <th>2</th>\n",
       "      <td>48.7</td>\n",
       "      <td>41</td>\n",
       "      <td>37</td>\n",
       "      <td>33.7</td>\n",
       "      <td>28</td>\n",
       "      <td>76</td>\n",
       "      <td>57.2</td>\n",
       "      <td>38</td>\n",
       "      <td>28</td>\n",
       "      <td>18.7</td>\n",
       "      <td>12</td>\n",
       "      <td>29.2</td>\n",
       "      <td>29.2</td>\n",
       "      <td>29.1</td>\n",
       "      <td>0.00</td>\n",
       "      <td>2021-04-3</td>\n",
       "    </tr>\n",
       "    <tr>\n",
       "      <th>3</th>\n",
       "      <td>47.5</td>\n",
       "      <td>36</td>\n",
       "      <td>32</td>\n",
       "      <td>30.0</td>\n",
       "      <td>28</td>\n",
       "      <td>75</td>\n",
       "      <td>52.9</td>\n",
       "      <td>36</td>\n",
       "      <td>16</td>\n",
       "      <td>6.9</td>\n",
       "      <td>0</td>\n",
       "      <td>29.3</td>\n",
       "      <td>29.2</td>\n",
       "      <td>29.2</td>\n",
       "      <td>0.00</td>\n",
       "      <td>2021-04-4</td>\n",
       "    </tr>\n",
       "    <tr>\n",
       "      <th>4</th>\n",
       "      <td>51.5</td>\n",
       "      <td>39</td>\n",
       "      <td>39</td>\n",
       "      <td>33.5</td>\n",
       "      <td>28</td>\n",
       "      <td>70</td>\n",
       "      <td>51.7</td>\n",
       "      <td>34</td>\n",
       "      <td>25</td>\n",
       "      <td>5.9</td>\n",
       "      <td>0</td>\n",
       "      <td>29.2</td>\n",
       "      <td>29.1</td>\n",
       "      <td>29.0</td>\n",
       "      <td>0.00</td>\n",
       "      <td>2021-04-5</td>\n",
       "    </tr>\n",
       "  </tbody>\n",
       "</table>\n",
       "</div>"
      ],
      "text/plain": [
       "  Temp_avg Temp_min Dew_max Dew_avg Dew_min Hum_max Hum_avg Hum_min Wind_max  \\\n",
       "0     64.5       52      41    35.7      28      54    35.6      22       13   \n",
       "1     59.6       46      48    39.4      28      66    48.1      31       21   \n",
       "2     48.7       41      37    33.7      28      76    57.2      38       28   \n",
       "3     47.5       36      32    30.0      28      75    52.9      36       16   \n",
       "4     51.5       39      39    33.5      28      70    51.7      34       25   \n",
       "\n",
       "  Wind_avg Wind_min Pres_max Pres_avg Pres_min Precipitation       Date  \n",
       "0      7.4        2     29.3     29.2     29.2          0.00  2021-04-1  \n",
       "1      8.7        1     29.2     29.2     29.1          0.00  2021-04-2  \n",
       "2     18.7       12     29.2     29.2     29.1          0.00  2021-04-3  \n",
       "3      6.9        0     29.3     29.2     29.2          0.00  2021-04-4  \n",
       "4      5.9        0     29.2     29.1     29.0          0.00  2021-04-5  "
      ]
     },
     "execution_count": 37,
     "metadata": {},
     "output_type": "execute_result"
    }
   ],
   "source": [
    "df_scrap.head()"
   ]
  },
  {
   "cell_type": "code",
   "execution_count": 38,
   "metadata": {},
   "outputs": [],
   "source": [
    "# On change le format de la colonne date pour l'utiliser\n",
    "df_scrap['Date'] =  pd.to_datetime(df_scrap['Date'], format='%Y-%m-%d')"
   ]
  },
  {
   "cell_type": "code",
   "execution_count": 39,
   "metadata": {},
   "outputs": [],
   "source": [
    "df_scrap = df_scrap.sort_values('Date')"
   ]
  },
  {
   "cell_type": "code",
   "execution_count": 40,
   "metadata": {},
   "outputs": [],
   "source": [
    "# Création d'un dataframe spark pour faire le feature engineering\n",
    "df_scrap = spark.createDataFrame(df_scrap)"
   ]
  },
  {
   "cell_type": "markdown",
   "metadata": {},
   "source": [
    "# Time series"
   ]
  },
  {
   "attachments": {},
   "cell_type": "markdown",
   "metadata": {},
   "source": [
    "**Feature engineering Pyspark**"
   ]
  },
  {
   "cell_type": "code",
   "execution_count": 41,
   "metadata": {},
   "outputs": [],
   "source": [
    "\n",
    "df_scrap = df_scrap.withColumn(\"Temp_avg\", col(\"Temp_avg\").cast(\"float\"))\n"
   ]
  },
  {
   "cell_type": "code",
   "execution_count": 42,
   "metadata": {},
   "outputs": [],
   "source": [
    "df_scrap = df_scrap.sort(\"Date\")\n",
    "\n",
    "df_scrap = df_scrap.withColumn(\"rank\", percent_rank().over(Window.partitionBy().orderBy(\"Date\")))"
   ]
  },
  {
   "cell_type": "code",
   "execution_count": 43,
   "metadata": {},
   "outputs": [
    {
     "data": {
      "text/plain": [
       "607"
      ]
     },
     "execution_count": 43,
     "metadata": {},
     "output_type": "execute_result"
    }
   ],
   "source": [
    "train_df = df_scrap.where(\"rank <= .8\").drop(\"rank\")\n",
    "train_df.count()"
   ]
  },
  {
   "cell_type": "code",
   "execution_count": 44,
   "metadata": {},
   "outputs": [
    {
     "data": {
      "text/plain": [
       "152"
      ]
     },
     "execution_count": 44,
     "metadata": {},
     "output_type": "execute_result"
    }
   ],
   "source": [
    "test_df = df_scrap.where(\"rank > .8\").drop(\"rank\")\n",
    "test_df.count()"
   ]
  },
  {
   "cell_type": "code",
   "execution_count": 45,
   "metadata": {},
   "outputs": [],
   "source": [
    "train_df = train_df.withColumnRenamed(\"Date\", \"index1\").drop(\"Date\")\n",
    "train_df = train_df.selectExpr(\"*\", \"index1 as index\").drop(\"index1\")\n",
    "\n",
    "test_df = test_df.withColumnRenamed(\"Date\", \"index1\").drop(\"Date\")\n",
    "test_df = test_df.selectExpr(\"*\", \"index1 as index\").drop(\"index1\")"
   ]
  },
  {
   "attachments": {},
   "cell_type": "markdown",
   "metadata": {},
   "source": [
    "# Pyspark"
   ]
  },
  {
   "cell_type": "code",
   "execution_count": 46,
   "metadata": {},
   "outputs": [
    {
     "data": {
      "image/png": "[encoded data removed]",
      "text/plain": [
       "<Figure size 1200x480 with 1 Axes>"
      ]
     },
     "metadata": {},
     "output_type": "display_data"
    }
   ],
   "source": [
    "figure(figsize=(15,6),dpi=80)\n",
    "\n",
    "train_rdd = train_df.select(\"index\", \"Temp_avg\").rdd.map(lambda row: (row[0], row[1]))\n",
    "test_rdd = test_df.select(\"index\", \"Temp_avg\").rdd.map(lambda row: (row[0], row[1]))\n",
    "\n",
    "# Convertir l'RDD en un tableau numpy\n",
    "train_arr = np.array(train_rdd.collect())\n",
    "test_arr = np.array(test_rdd.collect())\n",
    "\n",
    "# Tracer le graphique\n",
    "plt.plot(train_arr[:,0], train_arr[:,1], label='Training Set')#, title='Data Train/Test Split')\n",
    "plt.plot(test_arr[:,0], test_arr[:,1], label='Test Set')#, title='Data Train/Test Split')\n",
    "\n",
    "plt.xlabel('Date')\n",
    "plt.ylabel('Temp_avg')\n",
    "plt.legend()\n",
    "plt.show()"
   ]
  },
  {
   "attachments": {},
   "cell_type": "markdown",
   "metadata": {},
   "source": [
    "**Fonction pour créer de nouvelles variables**"
   ]
  },
  {
   "cell_type": "code",
   "execution_count": 47,
   "metadata": {},
   "outputs": [],
   "source": [
    "from pyspark.sql.functions import dayofweek, quarter, month, year, dayofyear, dayofmonth, weekofyear\n",
    "\n",
    "def create_features(df):\n",
    "    \"\"\"\n",
    "    Create time series features based on time series index.\n",
    "    \"\"\"\n",
    "    df2 = df.withColumn(\"dayofweek\", dayofweek(df.index)) \\\n",
    "            .withColumn(\"quarter\", quarter(df.index)) \\\n",
    "            .withColumn(\"month\", month(df.index)) \\\n",
    "            .withColumn(\"year\", year(df.index)) \\\n",
    "            .withColumn(\"dayofyear\", dayofyear(df.index)) \\\n",
    "            .withColumn(\"dayofmonth\", dayofmonth(df.index)) \\\n",
    "            .withColumn(\"weekofyear\", weekofyear(df.index))\n",
    "    return df2\n",
    "\n",
    "\n",
    "train_df = create_features(train_df)\n",
    "test_df = create_features(test_df)"
   ]
  },
  {
   "cell_type": "code",
   "execution_count": 49,
   "metadata": {},
   "outputs": [],
   "source": [
    "FEATURES = ['dayofyear', 'dayofweek', 'quarter', 'month', 'year']\n",
    "TARGET = 'Temp_avg'\n",
    "\n",
    "X_train = train_df.select(*FEATURES)\n",
    "y_train = train_df.select(TARGET)\n",
    "\n",
    "X_test = test_df.select(*FEATURES)\n",
    "y_test = test_df.select(TARGET)\n"
   ]
  },
  {
   "cell_type": "code",
   "execution_count": 50,
   "metadata": {},
   "outputs": [
    {
     "name": "stdout",
     "output_type": "stream",
     "text": [
      "[16:41:42] WARNING: C:/buildkite-agent/builds/buildkite-windows-cpu-autoscaling-group-i-03de431ba26204c4d-1/xgboost/xgboost-ci-windows/src/objective/regression_obj.cu:213: reg:linear is now deprecated in favor of reg:squarederror.\n",
      "[0]\tvalidation_0-rmse:57.04355\tvalidation_1-rmse:53.34289\n",
      "[100]\tvalidation_0-rmse:21.75324\tvalidation_1-rmse:23.09425\n",
      "[200]\tvalidation_0-rmse:9.30495\tvalidation_1-rmse:13.09807\n",
      "[300]\tvalidation_0-rmse:5.38599\tvalidation_1-rmse:9.74732\n",
      "[400]\tvalidation_0-rmse:4.28786\tvalidation_1-rmse:8.90655\n",
      "[500]\tvalidation_0-rmse:3.95994\tvalidation_1-rmse:8.72250\n",
      "[596]\tvalidation_0-rmse:3.79647\tvalidation_1-rmse:8.70808\n"
     ]
    },
    {
     "data": {
      "text/html": [
       "<style>#sk-container-id-1 {color: black;background-color: white;}#sk-container-id-1 pre{padding: 0;}#sk-container-id-1 div.sk-toggleable {background-color: white;}#sk-container-id-1 label.sk-toggleable__label {cursor: pointer;display: block;width: 100%;margin-bottom: 0;padding: 0.3em;box-sizing: border-box;text-align: center;}#sk-container-id-1 label.sk-toggleable__label-arrow:before {content: \"▸\";float: left;margin-right: 0.25em;color: #696969;}#sk-container-id-1 label.sk-toggleable__label-arrow:hover:before {color: black;}#sk-container-id-1 div.sk-estimator:hover label.sk-toggleable__label-arrow:before {color: black;}#sk-container-id-1 div.sk-toggleable__content {max-height: 0;max-width: 0;overflow: hidden;text-align: left;background-color: #f0f8ff;}#sk-container-id-1 div.sk-toggleable__content pre {margin: 0.2em;color: black;border-radius: 0.25em;background-color: #f0f8ff;}#sk-container-id-1 input.sk-toggleable__control:checked~div.sk-toggleable__content {max-height: 200px;max-width: 100%;overflow: auto;}#sk-container-id-1 input.sk-toggleable__control:checked~label.sk-toggleable__label-arrow:before {content: \"▾\";}#sk-container-id-1 div.sk-estimator input.sk-toggleable__control:checked~label.sk-toggleable__label {background-color: #d4ebff;}#sk-container-id-1 div.sk-label input.sk-toggleable__control:checked~label.sk-toggleable__label {background-color: #d4ebff;}#sk-container-id-1 input.sk-hidden--visually {border: 0;clip: rect(1px 1px 1px 1px);clip: rect(1px, 1px, 1px, 1px);height: 1px;margin: -1px;overflow: hidden;padding: 0;position: absolute;width: 1px;}#sk-container-id-1 div.sk-estimator {font-family: monospace;background-color: #f0f8ff;border: 1px dotted black;border-radius: 0.25em;box-sizing: border-box;margin-bottom: 0.5em;}#sk-container-id-1 div.sk-estimator:hover {background-color: #d4ebff;}#sk-container-id-1 div.sk-parallel-item::after {content: \"\";width: 100%;border-bottom: 1px solid gray;flex-grow: 1;}#sk-container-id-1 div.sk-label:hover label.sk-toggleable__label {background-color: #d4ebff;}#sk-container-id-1 div.sk-serial::before {content: \"\";position: absolute;border-left: 1px solid gray;box-sizing: border-box;top: 0;bottom: 0;left: 50%;z-index: 0;}#sk-container-id-1 div.sk-serial {display: flex;flex-direction: column;align-items: center;background-color: white;padding-right: 0.2em;padding-left: 0.2em;position: relative;}#sk-container-id-1 div.sk-item {position: relative;z-index: 1;}#sk-container-id-1 div.sk-parallel {display: flex;align-items: stretch;justify-content: center;background-color: white;position: relative;}#sk-container-id-1 div.sk-item::before, #sk-container-id-1 div.sk-parallel-item::before {content: \"\";position: absolute;border-left: 1px solid gray;box-sizing: border-box;top: 0;bottom: 0;left: 50%;z-index: -1;}#sk-container-id-1 div.sk-parallel-item {display: flex;flex-direction: column;z-index: 1;position: relative;background-color: white;}#sk-container-id-1 div.sk-parallel-item:first-child::after {align-self: flex-end;width: 50%;}#sk-container-id-1 div.sk-parallel-item:last-child::after {align-self: flex-start;width: 50%;}#sk-container-id-1 div.sk-parallel-item:only-child::after {width: 0;}#sk-container-id-1 div.sk-dashed-wrapped {border: 1px dashed gray;margin: 0 0.4em 0.5em 0.4em;box-sizing: border-box;padding-bottom: 0.4em;background-color: white;}#sk-container-id-1 div.sk-label label {font-family: monospace;font-weight: bold;display: inline-block;line-height: 1.2em;}#sk-container-id-1 div.sk-label-container {text-align: center;}#sk-container-id-1 div.sk-container {/* jupyter's `normalize.less` sets `[hidden] { display: none; }` but bootstrap.min.css set `[hidden] { display: none !important; }` so we also need the `!important` here to be able to override the default hidden behavior on the sphinx rendered scikit-learn.org. See: https://github.com/scikit-learn/scikit-learn/issues/21755 */display: inline-block !important;position: relative;}#sk-container-id-1 div.sk-text-repr-fallback {display: none;}</style><div id=\"sk-container-id-1\" class=\"sk-top-container\"><div class=\"sk-text-repr-fallback\"><pre>XGBRegressor(base_score=0.5, booster=&#x27;gbtree&#x27;, callbacks=None,\n",
       "             colsample_bylevel=1, colsample_bynode=1, colsample_bytree=1,\n",
       "             early_stopping_rounds=50, enable_categorical=False,\n",
       "             eval_metric=None, feature_types=None, gamma=0, gpu_id=-1,\n",
       "             grow_policy=&#x27;depthwise&#x27;, importance_type=None,\n",
       "             interaction_constraints=&#x27;&#x27;, learning_rate=0.01, max_bin=256,\n",
       "             max_cat_threshold=64, max_cat_to_onehot=4, max_delta_step=0,\n",
       "             max_depth=4, max_leaves=0, min_child_weight=1, missing=nan,\n",
       "             monotone_constraints=&#x27;()&#x27;, n_estimators=1000, n_jobs=0,\n",
       "             num_parallel_tree=1, objective=&#x27;reg:linear&#x27;, predictor=&#x27;auto&#x27;, ...)</pre><b>In a Jupyter environment, please rerun this cell to show the HTML representation or trust the notebook. <br />On GitHub, the HTML representation is unable to render, please try loading this page with nbviewer.org.</b></div><div class=\"sk-container\" hidden><div class=\"sk-item\"><div class=\"sk-estimator sk-toggleable\"><input class=\"sk-toggleable__control sk-hidden--visually\" id=\"sk-estimator-id-1\" type=\"checkbox\" checked><label for=\"sk-estimator-id-1\" class=\"sk-toggleable__label sk-toggleable__label-arrow\">XGBRegressor</label><div class=\"sk-toggleable__content\"><pre>XGBRegressor(base_score=0.5, booster=&#x27;gbtree&#x27;, callbacks=None,\n",
       "             colsample_bylevel=1, colsample_bynode=1, colsample_bytree=1,\n",
       "             early_stopping_rounds=50, enable_categorical=False,\n",
       "             eval_metric=None, feature_types=None, gamma=0, gpu_id=-1,\n",
       "             grow_policy=&#x27;depthwise&#x27;, importance_type=None,\n",
       "             interaction_constraints=&#x27;&#x27;, learning_rate=0.01, max_bin=256,\n",
       "             max_cat_threshold=64, max_cat_to_onehot=4, max_delta_step=0,\n",
       "             max_depth=4, max_leaves=0, min_child_weight=1, missing=nan,\n",
       "             monotone_constraints=&#x27;()&#x27;, n_estimators=1000, n_jobs=0,\n",
       "             num_parallel_tree=1, objective=&#x27;reg:linear&#x27;, predictor=&#x27;auto&#x27;, ...)</pre></div></div></div></div></div>"
      ],
      "text/plain": [
       "XGBRegressor(base_score=0.5, booster='gbtree', callbacks=None,\n",
       "             colsample_bylevel=1, colsample_bynode=1, colsample_bytree=1,\n",
       "             early_stopping_rounds=50, enable_categorical=False,\n",
       "             eval_metric=None, feature_types=None, gamma=0, gpu_id=-1,\n",
       "             grow_policy='depthwise', importance_type=None,\n",
       "             interaction_constraints='', learning_rate=0.01, max_bin=256,\n",
       "             max_cat_threshold=64, max_cat_to_onehot=4, max_delta_step=0,\n",
       "             max_depth=4, max_leaves=0, min_child_weight=1, missing=nan,\n",
       "             monotone_constraints='()', n_estimators=1000, n_jobs=0,\n",
       "             num_parallel_tree=1, objective='reg:linear', predictor='auto', ...)"
      ]
     },
     "execution_count": 50,
     "metadata": {},
     "output_type": "execute_result"
    }
   ],
   "source": [
    "# Initialisation du régresseur XGBoost avec des paramètres spécifiques\n",
    "reg = xgb.XGBRegressor(base_score=0.5, booster='gbtree',    \n",
    "                       n_estimators=1000,\n",
    "                       early_stopping_rounds=50,\n",
    "                       objective='reg:linear',\n",
    "                       max_depth=4,\n",
    "                       learning_rate=0.01)\n",
    "\n",
    "# Entraînement du modèle              \n",
    "reg.fit(X_train.toPandas(), y_train.toPandas(),\n",
    "        eval_set=[(X_train.toPandas(), y_train.toPandas()), (X_test.toPandas(), y_test.toPandas())],\n",
    "        verbose=100)"
   ]
  },
  {
   "cell_type": "code",
   "execution_count": 51,
   "metadata": {},
   "outputs": [
    {
     "data": {
      "image/png": "[encoded data removed]",
      "text/plain": [
       "<Figure size 640x480 with 1 Axes>"
      ]
     },
     "metadata": {},
     "output_type": "display_data"
    }
   ],
   "source": [
    "# Importance des features\n",
    "fi = pd.DataFrame(data=reg.feature_importances_,\n",
    "             index=reg.feature_names_in_,\n",
    "             columns=['importance'])\n",
    "            \n",
    "fi.sort_values('importance').plot(kind='barh', title='Feature Importance')\n",
    "plt.show()"
   ]
  },
  {
   "cell_type": "code",
   "execution_count": 54,
   "metadata": {},
   "outputs": [
    {
     "data": {
      "text/plain": [
       "DataFrame[Temp_avg: float, Temp_min: string, Dew_max: string, Dew_avg: string, Dew_min: string, Hum_max: string, Hum_avg: string, Hum_min: string, Wind_max: string, Wind_avg: string, Wind_min: string, Pres_max: string, Pres_avg: string, Pres_min: string, Precipitation: string, index: timestamp, dayofweek: int, quarter: int, month: int, year: int, dayofyear: int, dayofmonth: int, weekofyear: int]"
      ]
     },
     "execution_count": 54,
     "metadata": {},
     "output_type": "execute_result"
    }
   ],
   "source": [
    "test_df"
   ]
  },
  {
   "cell_type": "code",
   "execution_count": 58,
   "metadata": {},
   "outputs": [],
   "source": [
    "# Ajout de la colonne \"prediction\" au dataframe \"test\" avec les prédictions du modèle\n",
    "pred = reg.predict(X_test.toPandas())"
   ]
  },
  {
   "cell_type": "code",
   "execution_count": 59,
   "metadata": {},
   "outputs": [
    {
     "data": {
      "image/png": "[encoded data removed]",
      "text/plain": [
       "<Figure size 640x480 with 1 Axes>"
      ]
     },
     "metadata": {},
     "output_type": "display_data"
    }
   ],
   "source": [
    "# Graphique permettant de voir si le modèle arrive à faire de bonne prédiction\n",
    "# On remarque que le modèle à de bons résultats\n",
    "plt.plot(y_test.toPandas())\n",
    "plt.plot(pred)\n",
    "plt.show()"
   ]
  },
  {
   "cell_type": "code",
   "execution_count": 62,
   "metadata": {},
   "outputs": [
    {
     "name": "stdout",
     "output_type": "stream",
     "text": [
      "MAE Score on Test set: 2.68\n"
     ]
    }
   ],
   "source": [
    "# On fait le choix d'utiliser la métrique MAE car elle est facilement interprétable par rapports aux autres métriques\n",
    "# les données de températures sont en fahrenheit \n",
    "# En moyenne le modèle fait une erreur de 2.43 fahrenheit en valeur absolue\n",
    "score = np.sqrt(mean_absolute_error(y_test.toPandas(), pred))\n",
    "print(f'MAE Score on Test set: {score:0.2f}')"
   ]
  },
  {
   "cell_type": "code",
   "execution_count": 63,
   "metadata": {},
   "outputs": [
    {
     "data": {
      "text/plain": [
       "array([39.38413], dtype=float32)"
      ]
     },
     "execution_count": 63,
     "metadata": {},
     "output_type": "execute_result"
    }
   ],
   "source": [
    "# On peut faire une prédiction pour le 29 janvier 2023\n",
    "# Le modèle prédit 38.5 fahrenheit \n",
    "reg.predict(np.array([29, 7, 1, 1, 2023]).reshape(1,5))"
   ]
  },
  {
   "cell_type": "code",
   "execution_count": 198,
   "metadata": {},
   "outputs": [],
   "source": [
    "# export d'une base de donnée\n",
    "#df_madrid = df_scrap.copy()\n",
    "#df_madrid.to_csv('Madrid.csv')"
   ]
  },
  {
   "attachments": {},
   "cell_type": "markdown",
   "metadata": {},
   "source": [
    "**On verifie à l'aide d'une api la température à Lyon le 29 janvier 2023 et il fait 37.4 fahrenheit donc notre modèle est plutôt précis**"
   ]
  },
  {
   "cell_type": "code",
   "execution_count": 64,
   "metadata": {},
   "outputs": [
    {
     "data": {
      "text/plain": [
       "37.4"
      ]
     },
     "execution_count": 64,
     "metadata": {},
     "output_type": "execute_result"
    }
   ],
   "source": [
    "import requests\n",
    "from datetime import datetime\n",
    "import time\n",
    "\n",
    "\n",
    "city = 'Lyon'\n",
    "\n",
    "api_key = 'f15d6887ef0449fa9f695040232701'\n",
    "\n",
    "url = f\"http://api.weatherapi.com/v1/current.json?key={api_key}&q={city}\"\n",
    "response = requests.get(url)\n",
    "data = response.json()\n",
    "data['current']['temp_f']"
   ]
  }
 ],
 "metadata": {
  "kernelspec": {
   "display_name": "Python 3",
   "language": "python",
   "name": "python3"
  },
  "language_info": {
   "codemirror_mode": {
    "name": "ipython",
    "version": 3
   },
   "file_extension": ".py",
   "mimetype": "text/x-python",
   "name": "python",
   "nbconvert_exporter": "python",
   "pygments_lexer": "ipython3",
   "version": "3.10.6"
  },
  "orig_nbformat": 4,
  "vscode": {
   "interpreter": {
    "hash": "5df45a48bb60f980018e4fe277cf2208a8a7ce1cbaa2620bda48732921a81a3c"
   }
  }
 },
 "nbformat": 4,
 "nbformat_minor": 2
}
